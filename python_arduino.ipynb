{
 "cells": [
  {
   "cell_type": "markdown",
   "id": "a32689ce",
   "metadata": {},
   "source": [
    "Exemplo a colocar no arduino: Leitura de porta analógica"
   ]
  },
  {
   "cell_type": "code",
   "execution_count": null,
   "id": "6fdf234b",
   "metadata": {},
   "outputs": [],
   "source": [
    "#codigo a colocar no arduino\n",
    "// the setup routine runs once when you press reset:\n",
    "void setup() {\n",
    "  // initialize serial communication at 9600 bits per second:\n",
    "  Serial.begin(9600);\n",
    "}\n",
    "\n",
    "// the loop routine runs over and over again forever:\n",
    "void loop() {\n",
    "  // read the input on analog pin 0:\n",
    "  int sensorValue = analogRead(A0);\n",
    "  // print out the value you read:\n",
    "  //Serial.println(sensorValue);\n",
    "  float tensao = analogRead(sensorValue)*5.0/1023.0;\n",
    "  //Serial.print(\"Tensao do pino A0 em Volts: \");\n",
    "  Serial.print(tensao);\n",
    "  Serial.print(\",\");\n",
    "  int randnumber = random(1023);\n",
    "  Serial.println(randnumber);  \n",
    "  delay(1000);\n",
    "\n",
    "}"
   ]
  },
  {
   "cell_type": "markdown",
   "id": "5fcddb83",
   "metadata": {},
   "source": [
    "# Gravar dois dados em csv"
   ]
  },
  {
   "cell_type": "code",
   "execution_count": null,
   "id": "336b3e9c",
   "metadata": {},
   "outputs": [],
   "source": [
    "#codigo python\n",
    "#https://www.youtube.com/watch?v=UGjjP45wrKQ\n",
    "import serial\n",
    "porta = \"/dev/ttyACM0\"\n",
    "baud = 9600\n",
    "arquivo = \"logger.csv\"\n",
    "\n",
    "ser = serial.Serial(porta,baud)\n",
    "ser.flushInput()\n",
    "print(\"Abrindo Serial\")\n",
    "\n",
    "amostra = 10\n",
    "linha = 0\n",
    "while linha <= amostra:\n",
    "    \n",
    "    data = str(ser.readline().decode(\"utf-8\"))\n",
    "    print(data)\n",
    "    file = open(arquivo,\"a\")\n",
    "    file.write(data)\n",
    "    linha = linha+1\n",
    "\n",
    "print(\"Final de leituras\")\n",
    "file.close()\n",
    "ser.close()"
   ]
  },
  {
   "attachments": {},
   "cell_type": "markdown",
   "id": "e009d7c4",
   "metadata": {},
   "source": [
    "# Escrever dados no arduino"
   ]
  },
  {
   "cell_type": "code",
   "execution_count": 3,
   "id": "79d6d788",
   "metadata": {},
   "outputs": [
    {
     "ename": "SyntaxError",
     "evalue": "invalid syntax (3121049712.py, line 3)",
     "output_type": "error",
     "traceback": [
      "\u001b[0;36m  File \u001b[0;32m\"/tmp/ipykernel_6049/3121049712.py\"\u001b[0;36m, line \u001b[0;32m3\u001b[0m\n\u001b[0;31m    String myCmd;\u001b[0m\n\u001b[0m           ^\u001b[0m\n\u001b[0;31mSyntaxError\u001b[0m\u001b[0;31m:\u001b[0m invalid syntax\n"
     ]
    }
   ],
   "source": [
    "//https://www.youtube.com/watch?v=dbZZlq1_M4o&list=PLGs0VKk2DiYzWURfJCbCGPa8HI0APjBfo&index=10&t=1542s\n",
    "//comandar_led_arduino_python.ino\n",
    "//não funciona\n",
    "String myCmd;\n",
    "\n",
    "void setup(){\n",
    "    Serial.begin(115200);\n",
    "}\n",
    "\n",
    "void loop(){\n",
    "    while(Serial.available()==0){\n",
    "        pinMode(13,OUTPUT);\n",
    "\n",
    "    }\n",
    "    myCmd=Serial.readStringUntil('\\r'); //lê uma string\n",
    "    if(myCmd=='ON'){\n",
    "        digitalWrite(13,HIGH);\n",
    "    }\n",
    "    if(myCmd=='OFF'){\n",
    "        digitalWrite(13,LOW);\n",
    "    }\n",
    "}"
   ]
  },
  {
   "cell_type": "code",
   "execution_count": 1,
   "id": "a11dfbdd",
   "metadata": {},
   "outputs": [],
   "source": [
    "#Programa de Python- Controlar LED\n",
    "import serial\n",
    "arduinoData=serial.Serial('/dev/ttyACM0',115200)\n",
    "\n",
    "while True:\n",
    "    cmd=input('Escreva ON ou OFF: ')\n",
    "    cmd=cmd+'\\r' #coloca o fim de linha (carriage return)\n",
    "    arduinoData.write(cmd.encode())\n"
   ]
  },
  {
   "cell_type": "code",
   "execution_count": null,
   "id": "30aa12a2",
   "metadata": {},
   "outputs": [],
   "source": [
    "//https://www.sandroalex.info/roteiros/projetos-arduino/8-porta-serial\n",
    "// Projeto 08.b Porta Serial\n",
    "//\n",
    "// Prof. Sandro Alex\n",
    "// https://www.sandroalex.info\n",
    "// https://www.youtube.com/sandroalex\n",
    "// https://www.linkedin.com/in/sandro-alex-ferreira-74b50449\n",
    "//\n",
    "\n",
    "const byte LED = 13;\n",
    "byte valorSerial = 0;\n",
    "\n",
    "void setup(){\n",
    "  pinMode(LED, OUTPUT);\n",
    "  Serial.begin(9600);\n",
    "  Serial.println(\"Digite 1 para acender o LED e 0 para apagar\");\n",
    "}\n",
    "\n",
    "void loop(){\n",
    "  \n",
    "  if (Serial.available() > 0) {\n",
    "  \n",
    "    valorSerial = Serial.read();\n",
    "  \n",
    "    if ((valorSerial != '1') && (valorSerial != '0')){\n",
    "      Serial.print(\"ERRO! Voce digitou: \");\n",
    "      Serial.println((char) valorSerial);\n",
    "      Serial.println(\"\\nDigite 1 para acender o LED e 0 para apagar\");\n",
    "    }\n",
    "    else{\n",
    "      digitalWrite(LED, valorSerial-48);\n",
    "      if (valorSerial == '1')\n",
    "        Serial.println(\"Luz acesa!\");\n",
    "      else\n",
    "        Serial.println(\"Luz apagada!\");\n",
    "    }\n",
    "    \n",
    "  }\n",
    "    \n",
    "}"
   ]
  }
 ],
 "metadata": {
  "kernelspec": {
   "display_name": "Python 3",
   "language": "python",
   "name": "python3"
  },
  "language_info": {
   "codemirror_mode": {
    "name": "ipython",
    "version": 3
   },
   "file_extension": ".py",
   "mimetype": "text/x-python",
   "name": "python",
   "nbconvert_exporter": "python",
   "pygments_lexer": "ipython3",
   "version": "3.10.6 (main, Nov 14 2022, 16:10:14) [GCC 11.3.0]"
  },
  "vscode": {
   "interpreter": {
    "hash": "31f2aee4e71d21fbe5cf8b01ff0e069b9275f58929596ceb00d14d90e3e16cd6"
   }
  }
 },
 "nbformat": 4,
 "nbformat_minor": 5
}
