{
  "nbformat": 4,
  "nbformat_minor": 0,
  "metadata": {
    "colab": {
      "name": "Untitled0.ipynb",
      "provenance": [],
      "authorship_tag": "ABX9TyP9pajnFtYne6h9aS1M2HxO",
      "include_colab_link": true
    },
    "kernelspec": {
      "name": "python3",
      "display_name": "Python 3"
    }
  },
  "cells": [
    {
      "cell_type": "markdown",
      "metadata": {
        "id": "view-in-github",
        "colab_type": "text"
      },
      "source": [
        "<a href=\"https://colab.research.google.com/github/labF212/pyhton-arduino/blob/master/testecolaborgoogle.ipynb\" target=\"_parent\"><img src=\"https://colab.research.google.com/assets/colab-badge.svg\" alt=\"Open In Colab\"/></a>"
      ]
    },
    {
      "cell_type": "markdown",
      "metadata": {
        "id": "5bSJevjkWz3T",
        "colab_type": "text"
      },
      "source": [
        "#Olá seja bem vindo a este manual de python escrito em Jupyter.\n",
        "\n",
        "##Declaração de variáveis"
      ]
    },
    {
      "cell_type": "code",
      "metadata": {
        "id": "17ivLAvQmwIO",
        "colab_type": "code",
        "colab": {}
      },
      "source": [
        "a = 1\n",
        "b = 1.0"
      ],
      "execution_count": 0,
      "outputs": []
    },
    {
      "cell_type": "markdown",
      "metadata": {
        "id": "-3NN8w56X6FL",
        "colab_type": "text"
      },
      "source": [
        "\n",
        "\n",
        "*   a é um inteiro \n",
        "*   b é um decimal\n",
        "\n",
        "\n"
      ]
    },
    {
      "cell_type": "code",
      "metadata": {
        "id": "fc30slNhX5Zh",
        "colab_type": "code",
        "colab": {}
      },
      "source": [
        ""
      ],
      "execution_count": 0,
      "outputs": []
    }
  ]
}