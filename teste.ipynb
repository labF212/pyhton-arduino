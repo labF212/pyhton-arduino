{
  "nbformat": 4,
  "nbformat_minor": 0,
  "metadata": {
    "colab": {
      "name": "teste.ipynb",
      "provenance": [],
      "collapsed_sections": [],
      "authorship_tag": "ABX9TyO38MLoX2f1HQiqLjAt3JNz",
      "include_colab_link": true
    },
    "kernelspec": {
      "name": "python3",
      "display_name": "Python 3"
    }
  },
  "cells": [
    {
      "cell_type": "markdown",
      "metadata": {
        "id": "view-in-github",
        "colab_type": "text"
      },
      "source": [
        "<a href=\"https://colab.research.google.com/github/labF212/pyhton-arduino/blob/master/teste.ipynb\" target=\"_parent\"><img src=\"https://colab.research.google.com/assets/colab-badge.svg\" alt=\"Open In Colab\"/></a>"
      ]
    },
    {
      "cell_type": "markdown",
      "metadata": {
        "id": "5bSJevjkWz3T"
      },
      "source": [
        "#Olá seja bem vindo a este manual de python escrito em Jupyter.\n",
        "\n",
        "##Declaração de variáveis"
      ]
    },
    {
      "cell_type": "code",
      "metadata": {
        "id": "17ivLAvQmwIO"
      },
      "source": [
        "a = 2\n",
        "b = 1.0"
      ],
      "execution_count": 14,
      "outputs": []
    },
    {
      "cell_type": "markdown",
      "metadata": {
        "id": "-3NN8w56X6FL"
      },
      "source": [
        "\n",
        "\n",
        "*   a é um inteiro \n",
        "*   b é um decimal\n",
        "\n",
        "## Imprimir Variáveis\n",
        "\n",
        "\n"
      ]
    },
    {
      "cell_type": "code",
      "metadata": {
        "id": "fc30slNhX5Zh",
        "outputId": "ee77dceb-3c7d-4010-a37f-d726f76963ca",
        "colab": {
          "base_uri": "https://localhost:8080/"
        }
      },
      "source": [
        "print (a) #inteiro\n",
        "print (b) #decimal\n",
        "print (a+b) #a soma de ambos é decimal\n",
        "c = int (a+b)\n",
        "print (c) #soma como inteiros"
      ],
      "execution_count": 25,
      "outputs": [
        {
          "output_type": "stream",
          "text": [
            "2\n",
            "1.0\n",
            "3.0\n",
            "3\n"
          ],
          "name": "stdout"
        }
      ]
    },
    {
      "cell_type": "markdown",
      "metadata": {
        "id": "540ZAhfReLGB"
      },
      "source": [
        "# Variável Global ou local"
      ]
    },
    {
      "cell_type": "code",
      "metadata": {
        "id": "tIiyTxZ7eRvI",
        "outputId": "f795f1fc-970a-43fa-ccee-5b3500a7104b",
        "colab": {
          "base_uri": "https://localhost:8080/"
        }
      },
      "source": [
        "def test():\n",
        "  global x #global\n",
        "  print (x)\n",
        "x=10\n",
        "test()\n"
      ],
      "execution_count": 7,
      "outputs": [
        {
          "output_type": "stream",
          "text": [
            "10\n"
          ],
          "name": "stdout"
        }
      ]
    },
    {
      "cell_type": "markdown",
      "metadata": {
        "id": "WNMXfSfuZlbb"
      },
      "source": [
        "Como vemos a+b dá origem a um decimal.\n",
        "\n",
        "#Listas"
      ]
    },
    {
      "cell_type": "code",
      "metadata": {
        "id": "z6b13R3bZ4K2",
        "outputId": "aa47e8bc-165a-4767-b69c-7d04e6e4aeac",
        "colab": {
          "base_uri": "https://localhost:8080/"
        }
      },
      "source": [
        "temperatura = [0, 3, 4, 5, 7, 6]\n",
        "print (temperatura[1]) "
      ],
      "execution_count": null,
      "outputs": [
        {
          "output_type": "stream",
          "text": [
            "3\n"
          ],
          "name": "stdout"
        }
      ]
    },
    {
      "cell_type": "code",
      "metadata": {
        "id": "G73tkM7-am-M",
        "outputId": "3d88f8b7-a415-47e6-d92a-bbd2f1685ab4",
        "colab": {
          "base_uri": "https://localhost:8080/"
        }
      },
      "source": [
        "max (temperatura)"
      ],
      "execution_count": null,
      "outputs": [
        {
          "output_type": "execute_result",
          "data": {
            "text/plain": [
              "7"
            ]
          },
          "metadata": {
            "tags": []
          },
          "execution_count": 5
        }
      ]
    },
    {
      "cell_type": "code",
      "metadata": {
        "id": "5Bsvxt6ldark",
        "outputId": "ef43dfd7-93b7-4fd2-b8ca-c6aa72c64782",
        "colab": {
          "base_uri": "https://localhost:8080/"
        }
      },
      "source": [
        "media = sum (temperatura)/len(temperatura)\n",
        "print (int(media))"
      ],
      "execution_count": null,
      "outputs": [
        {
          "output_type": "stream",
          "text": [
            "4\n"
          ],
          "name": "stdout"
        }
      ]
    },
    {
      "cell_type": "code",
      "metadata": {
        "id": "x_jGFkcBhGp1",
        "outputId": "c693c8be-7dd9-43f1-e9d1-dbc6bd419a0d",
        "colab": {
          "base_uri": "https://localhost:8080/",
          "height": 34
        }
      },
      "source": [
        "temperatura.append(2)\n",
        "print(temperatura)"
      ],
      "execution_count": null,
      "outputs": [
        {
          "output_type": "stream",
          "text": [
            "[0, 3, 4, 5, 7, 6, 2]\n"
          ],
          "name": "stdout"
        }
      ]
    },
    {
      "cell_type": "code",
      "metadata": {
        "id": "IZhEcZrq40rJ",
        "outputId": "ad658dee-ab29-415c-cf77-935d8d2c61dd",
        "colab": {
          "base_uri": "https://localhost:8080/"
        }
      },
      "source": [
        "#multiplica valores da lista por 2\n",
        "\n",
        "#n=[0,3,4,5,7,6,2]\n",
        "#n=temperatura\n",
        "def dobro(x):\n",
        "    for i in range(0, len(x)):\n",
        "        x[i]=x[i]*2\n",
        "    return x\n",
        "#print (dobro(n))\n",
        "temperatura2= dobro(temperatura)\n",
        "print(temperatura2)\n",
        "\n"
      ],
      "execution_count": null,
      "outputs": [
        {
          "output_type": "stream",
          "text": [
            "[0, 6, 8, 10, 14, 12]\n"
          ],
          "name": "stdout"
        }
      ]
    },
    {
      "cell_type": "markdown",
      "metadata": {
        "id": "jL1zge2PEmPp"
      },
      "source": [
        "# Exemplos ciclo For"
      ]
    },
    {
      "cell_type": "code",
      "metadata": {
        "id": "-_7LKzivA401",
        "outputId": "9b9150ed-c36b-4b0e-d1a5-b49c77a1f6ea",
        "colab": {
          "base_uri": "https://localhost:8080/"
        }
      },
      "source": [
        "#ciclo for\n",
        "\n",
        "for i in range (12,0,-3):\n",
        "  print(i)"
      ],
      "execution_count": 16,
      "outputs": [
        {
          "output_type": "stream",
          "text": [
            "12\n",
            "9\n",
            "6\n",
            "3\n"
          ],
          "name": "stdout"
        }
      ]
    },
    {
      "cell_type": "code",
      "metadata": {
        "id": "aTXBySgxA85h",
        "outputId": "84948fc7-9304-4d1a-a577-1f810a2916a2",
        "colab": {
          "base_uri": "https://localhost:8080/"
        }
      },
      "source": [
        "#ciclo for\n",
        "\n",
        "for i in (\"a\",\"b\",\"d\"):\n",
        "  print (i)\n",
        "\n"
      ],
      "execution_count": 10,
      "outputs": [
        {
          "output_type": "stream",
          "text": [
            "a\n",
            "b\n",
            "d\n"
          ],
          "name": "stdout"
        }
      ]
    },
    {
      "cell_type": "markdown",
      "metadata": {
        "id": "k7iWIKlSdjL2"
      },
      "source": [
        "# Exemplos de if"
      ]
    },
    {
      "cell_type": "code",
      "metadata": {
        "id": "JHqGJ1Vgduiu",
        "outputId": "feff4c18-80c6-4f7d-8489-adab56f4ef9d",
        "colab": {
          "base_uri": "https://localhost:8080/"
        }
      },
      "source": [
        "n = 5\n",
        "y = int(input(\"Adivinha um número entre 1 e 10: \"))\n",
        "if n is y:\n",
        "  print(\"Parabéns, você acertou!\") \n",
        "elif y > 5:\n",
        "  print (\"Grande\")\n",
        "else:\n",
        "  print(\"Pequeno\")"
      ],
      "execution_count": 88,
      "outputs": [
        {
          "output_type": "stream",
          "text": [
            "Adivinha um número entre 1 e 10: 3\n",
            "Pequeno\n"
          ],
          "name": "stdout"
        }
      ]
    },
    {
      "cell_type": "markdown",
      "metadata": {
        "id": "LO5tyl4AprsJ"
      },
      "source": [
        "# Exemplos de Gráfico:"
      ]
    },
    {
      "cell_type": "code",
      "metadata": {
        "id": "Zm2is7Mkm3IY",
        "outputId": "e88aac9f-c3cf-48fd-e83f-8d8e20e3c73f",
        "colab": {
          "base_uri": "https://localhost:8080/",
          "height": 281
        }
      },
      "source": [
        "from matplotlib import pyplot as plt\n",
        "\n",
        "x = [x for x in range(len(temperatura2))]\n",
        "plt.plot(x, temperatura2, '-')\n",
        "plt.title(\"Temperatura medida na Estufa\")\n",
        "plt.show()"
      ],
      "execution_count": null,
      "outputs": [
        {
          "output_type": "display_data",
          "data": {
            "image/png": "[encoded data removed]",
            "text/plain": [
              "<Figure size 432x288 with 1 Axes>"
            ]
          },
          "metadata": {
            "tags": [],
            "needs_background": "light"
          }
        }
      ]
    },
    {
      "cell_type": "code",
      "metadata": {
        "id": "13oJkvnavk6s",
        "outputId": "ff8ca071-4b25-4b00-e1a7-792fdead72c4",
        "colab": {
          "base_uri": "https://localhost:8080/",
          "height": 225
        }
      },
      "source": [
        "#https://realpython.com/python-matplotlib-guide/\n",
        "from matplotlib import pyplot as plt\n",
        "\n",
        "x = [x for x in range(len(temperatura))]\n",
        "\n",
        "fig, ax = plt.subplots(figsize=(5, 3))\n",
        "ax.stackplot(x, temperatura, labels=['ºC'])\n",
        "ax.set_title('Medida temperatura na estufa')\n",
        "ax.legend(loc='upper left')\n",
        "ax.set_ylabel('temperatura medida')\n",
        "ax.set_xlabel('nº de medidas')\n",
        "ax.set_ylim(0, 20)\n",
        "ax.set_xlim(0,len(temperatura))\n",
        "ax.grid(axis='both')\n",
        "fig.tight_layout()"
      ],
      "execution_count": null,
      "outputs": [
        {
          "output_type": "display_data",
          "data": {
            "image/png": "[encoded data removed]",
            "text/plain": [
              "<Figure size 360x216 with 1 Axes>"
            ]
          },
          "metadata": {
            "tags": [],
            "needs_background": "light"
          }
        }
      ]
    },
    {
      "cell_type": "code",
      "metadata": {
        "id": "sZEZfpkma2V1",
        "outputId": "311d501e-628a-49e8-9b78-d81768e93784",
        "colab": {
          "base_uri": "https://localhost:8080/",
          "height": 34
        }
      },
      "source": [
        "\n",
        "import math\n",
        "\n",
        "class Circle:\n",
        "    def __init__(self, radius):\n",
        "        self.radius = radius\n",
        "\n",
        "    @property\n",
        "    def area(self):\n",
        "        return self.radius ** 2 * math.pi\n",
        "\n",
        "c = Circle(2)\n",
        "print(c.area)\n"
      ],
      "execution_count": null,
      "outputs": [
        {
          "output_type": "stream",
          "text": [
            "12.566370614359172\n"
          ],
          "name": "stdout"
        }
      ]
    },
    {
      "cell_type": "markdown",
      "metadata": {
        "id": "N2fHhpu_QFEU"
      },
      "source": [
        "trwet9ru8top\n"
      ]
    },
    {
      "cell_type": "code",
      "metadata": {
        "id": "NpOoYsw6QKUj"
      },
      "source": [
        ""
      ],
      "execution_count": null,
      "outputs": []
    }
  ]
}